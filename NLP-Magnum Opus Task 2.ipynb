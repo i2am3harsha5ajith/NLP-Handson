{
 "cells": [
  {
   "cell_type": "code",
   "execution_count": 2,
   "id": "72666a3f",
   "metadata": {},
   "outputs": [
    {
     "name": "stdout",
     "output_type": "stream",
     "text": [
      "Cosine Similarity: 0.14\n",
      "The documents are not similar.\n"
     ]
    },
    {
     "name": "stderr",
     "output_type": "stream",
     "text": [
      "[nltk_data] Downloading package punkt to\n",
      "[nltk_data]     C:\\Users\\harsh\\AppData\\Roaming\\nltk_data...\n",
      "[nltk_data]   Package punkt is already up-to-date!\n",
      "[nltk_data] Downloading package stopwords to\n",
      "[nltk_data]     C:\\Users\\harsh\\AppData\\Roaming\\nltk_data...\n",
      "[nltk_data]   Package stopwords is already up-to-date!\n"
     ]
    }
   ],
   "source": [
    "from scipy.spatial.distance import cosine\n",
    "from sklearn.feature_extraction.text import TfidfVectorizer\n",
    "import nltk\n",
    "from nltk.corpus import stopwords\n",
    "from nltk.stem import PorterStemmer\n",
    "import string\n",
    "\n",
    "nltk.download('punkt')\n",
    "nltk.download('stopwords')\n",
    "\n",
    "def preprocess(text, stemming=False):\n",
    "    text = text.lower()\n",
    "    text = text.translate(str.maketrans('', '', string.punctuation))\n",
    "    words = nltk.word_tokenize(text)\n",
    "    stop_words = set(stopwords.words('english'))\n",
    "    words = [word for word in words if word not in stop_words]\n",
    "    if stemming:\n",
    "        ps = PorterStemmer()\n",
    "        words = [ps.stem(word) for word in words]\n",
    "    return ' '.join(words)\n",
    "\n",
    "def document_similarity(doc1, doc2, stemming=False):\n",
    "    # Preprocess documents\n",
    "    preprocessed1 = preprocess(doc1, stemming)\n",
    "    preprocessed2 = preprocess(doc2, stemming)\n",
    "    \n",
    "    # Vectorize using TF-IDF\n",
    "    vectorizer = TfidfVectorizer()\n",
    "    tfidf_matrix = vectorizer.fit_transform([preprocessed1, preprocessed2])\n",
    "    \n",
    "    # Convert to arrays\n",
    "    vec1 = tfidf_matrix[0].toarray().flatten()\n",
    "    vec2 = tfidf_matrix[1].toarray().flatten()\n",
    "    \n",
    "    # Handle zero vectors\n",
    "    if not vec1.any() or not vec2.any():\n",
    "        return 0.0\n",
    "    \n",
    "    # Compute cosine similarity\n",
    "    cosine_sim = 1 - cosine(vec1, vec2)\n",
    "    return cosine_sim\n",
    "\n",
    "# Example usage\n",
    "doc1 = \"A quick brown fox jumps over a lazy dog.\"\n",
    "doc2 = \"The dog sat on the rug.\"\n",
    "similarity = document_similarity(doc1, doc2, stemming=False)\n",
    "print(f\"Cosine Similarity: {similarity:.2f}\")\n",
    "\n",
    "if similarity > 0.5:\n",
    "    print(\"The documents are similar.\")\n",
    "else:\n",
    "    print(\"The documents are not similar.\")"
   ]
  },
  {
   "cell_type": "code",
   "execution_count": null,
   "id": "533c323a",
   "metadata": {},
   "outputs": [],
   "source": []
  }
 ],
 "metadata": {
  "kernelspec": {
   "display_name": "Python 3 (ipykernel)",
   "language": "python",
   "name": "python3"
  },
  "language_info": {
   "codemirror_mode": {
    "name": "ipython",
    "version": 3
   },
   "file_extension": ".py",
   "mimetype": "text/x-python",
   "name": "python",
   "nbconvert_exporter": "python",
   "pygments_lexer": "ipython3",
   "version": "3.11.5"
  }
 },
 "nbformat": 4,
 "nbformat_minor": 5
}
