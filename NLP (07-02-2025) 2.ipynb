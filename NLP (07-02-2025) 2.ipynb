{
 "cells": [
  {
   "cell_type": "code",
   "execution_count": 1,
   "id": "ce8e2f10",
   "metadata": {},
   "outputs": [],
   "source": [
    "import nltk\n",
    "f = open('tweets1.txt','r')"
   ]
  },
  {
   "cell_type": "code",
   "execution_count": 2,
   "id": "e92d6c11",
   "metadata": {},
   "outputs": [],
   "source": [
    "text=f.read()\n",
    "text1=text.split()\n",
    "text2=nltk.Text(text1)"
   ]
  },
  {
   "cell_type": "code",
   "execution_count": 3,
   "id": "c30647cc",
   "metadata": {},
   "outputs": [
    {
     "name": "stdout",
     "output_type": "stream",
     "text": [
      "Displaying 25 of 30 matches:\n",
      "rry about your camera EC! If it makes you feel better mine cracked on valentine\n",
      "out a drop of madness, amigo. Why are you in a motorized wheelchair?! So I gues\n",
      "k... i think I get it. Are you, or do you know, a keen soccer player or fan? Yo\n",
      "ou know, a keen soccer player or fan? You could win a trip to Thailand thanks t\n",
      "ob of the desi more easy to describe. You lose control of your typeface once it\n",
      "he world. Work everyday remember what you are doing. Creating a typeface for co\n",
      "d make plans.. Oh why cheesecake why? You looked so good evil cake. Now metamuc\n",
      "dolphins evolved from wolves? come on you boffins Looking at the earthquake mon\n",
      "d. Setting up a WIndows machine gives you time for pause. It's like therapy. Lo\n",
      "ing for it....camp it up. That'll get you through Works olhando tv :B Beautiful\n",
      " has a pluggin for rails. That's righ you heard now tell gran to put the kettle\n",
      " to see the future: on monday morning you will feel ill. Also my nickname is th\n",
      "centrate. i need a breather. Whenever you go to play basketball I imagine your \n",
      "onal career. A moments silence please you get the best feeling in the world whe\n",
      "et the best feeling in the world when you cross major things off your to do lis\n",
      "nch on south beach. Bloody mary baby. you have a fake wife, too? finished worki\n",
      "some website craig. I don't know what you needed me for. Pumkin muffin. Christm\n",
      "c new song! just send me a message if you want a copy :) wrapping presents like\n",
      "e shifts and changes. I don't know if you can be wholeheartedly in love all the\n",
      "usic I tell ya! Twenty years from now you will be more disappointed by the thin\n",
      " more disappointed by the things that you didnâ€šÃ„Ã´t do than by the ones you \n",
      " you didnâ€šÃ„Ã´t do than by the ones you did do. So throw off the bowli ... hu\n",
      "tle christmahannakwanzaa, hoping that you are as well... mapquest directions to\n",
      "can do ... Reading: Facebook Ads Make You the Star -- And You May Not Know It |\n",
      "Facebook Ads Make You the Star -- And You May Not Know It | Epicenter from Wire\n"
     ]
    }
   ],
   "source": [
    "text2.concordance(\"you\")"
   ]
  },
  {
   "cell_type": "code",
   "execution_count": 4,
   "id": "1faea9b8",
   "metadata": {},
   "outputs": [],
   "source": [
    "from urllib import request"
   ]
  },
  {
   "cell_type": "code",
   "execution_count": 5,
   "id": "c827c522",
   "metadata": {},
   "outputs": [],
   "source": [
    "url = \"https://www.gutenberg.org/cache/epub/11/pg11-images.html\""
   ]
  },
  {
   "cell_type": "code",
   "execution_count": 6,
   "id": "2c829d3c",
   "metadata": {},
   "outputs": [],
   "source": [
    "response = request.urlopen(url)"
   ]
  },
  {
   "cell_type": "code",
   "execution_count": 7,
   "id": "cfb9d948",
   "metadata": {},
   "outputs": [],
   "source": [
    "raw = response.read().decode(\"utf8\")"
   ]
  },
  {
   "cell_type": "code",
   "execution_count": 8,
   "id": "6e1228f9",
   "metadata": {},
   "outputs": [
    {
     "data": {
      "text/plain": [
       "str"
      ]
     },
     "execution_count": 8,
     "metadata": {},
     "output_type": "execute_result"
    }
   ],
   "source": [
    "type(raw)"
   ]
  },
  {
   "cell_type": "code",
   "execution_count": 9,
   "id": "4fd03259",
   "metadata": {},
   "outputs": [
    {
     "data": {
      "text/plain": [
       "185378"
      ]
     },
     "execution_count": 9,
     "metadata": {},
     "output_type": "execute_result"
    }
   ],
   "source": [
    "len(raw)"
   ]
  },
  {
   "cell_type": "code",
   "execution_count": 10,
   "id": "68ddf9a5",
   "metadata": {},
   "outputs": [
    {
     "data": {
      "text/plain": [
       "'<!DOCTYPE html>\\r\\n<html lang=\"en\">\\r\\n<head>\\r\\n<meta charset=\"utf-8\"><style>\\r\\n#'"
      ]
     },
     "execution_count": 10,
     "metadata": {},
     "output_type": "execute_result"
    }
   ],
   "source": [
    "raw[:75]"
   ]
  },
  {
   "cell_type": "code",
   "execution_count": 12,
   "id": "c9a041e0",
   "metadata": {},
   "outputs": [
    {
     "name": "stderr",
     "output_type": "stream",
     "text": [
      "[nltk_data] Downloading package punkt to\n",
      "[nltk_data]     C:\\Users\\harsh\\AppData\\Roaming\\nltk_data...\n",
      "[nltk_data]   Unzipping tokenizers\\punkt.zip.\n"
     ]
    }
   ],
   "source": [
    "nltk.download('punkt')\n",
    "from nltk.tokenize import word_tokenize\n",
    "tokens = word_tokenize(raw)"
   ]
  },
  {
   "cell_type": "code",
   "execution_count": 13,
   "id": "30e17e10",
   "metadata": {},
   "outputs": [
    {
     "data": {
      "text/plain": [
       "list"
      ]
     },
     "execution_count": 13,
     "metadata": {},
     "output_type": "execute_result"
    }
   ],
   "source": [
    "type(tokens)"
   ]
  },
  {
   "cell_type": "code",
   "execution_count": 16,
   "id": "c49e4823",
   "metadata": {},
   "outputs": [
    {
     "data": {
      "text/plain": [
       "185378"
      ]
     },
     "execution_count": 16,
     "metadata": {},
     "output_type": "execute_result"
    }
   ],
   "source": [
    "len(raw)"
   ]
  },
  {
   "cell_type": "code",
   "execution_count": null,
   "id": "48b1f4fe",
   "metadata": {},
   "outputs": [],
   "source": []
  },
  {
   "cell_type": "code",
   "execution_count": null,
   "id": "ec9bd437",
   "metadata": {},
   "outputs": [],
   "source": []
  },
  {
   "cell_type": "code",
   "execution_count": null,
   "id": "02607176",
   "metadata": {},
   "outputs": [],
   "source": []
  },
  {
   "cell_type": "code",
   "execution_count": null,
   "id": "23946b26",
   "metadata": {},
   "outputs": [],
   "source": []
  },
  {
   "cell_type": "code",
   "execution_count": null,
   "id": "dafd2045",
   "metadata": {},
   "outputs": [],
   "source": []
  },
  {
   "cell_type": "code",
   "execution_count": null,
   "id": "a7f1be88",
   "metadata": {},
   "outputs": [],
   "source": []
  },
  {
   "cell_type": "code",
   "execution_count": null,
   "id": "4aa82f7f",
   "metadata": {},
   "outputs": [],
   "source": []
  },
  {
   "cell_type": "code",
   "execution_count": null,
   "id": "c839b6f2",
   "metadata": {},
   "outputs": [],
   "source": []
  }
 ],
 "metadata": {
  "kernelspec": {
   "display_name": "Python 3 (ipykernel)",
   "language": "python",
   "name": "python3"
  },
  "language_info": {
   "codemirror_mode": {
    "name": "ipython",
    "version": 3
   },
   "file_extension": ".py",
   "mimetype": "text/x-python",
   "name": "python",
   "nbconvert_exporter": "python",
   "pygments_lexer": "ipython3",
   "version": "3.11.5"
  }
 },
 "nbformat": 4,
 "nbformat_minor": 5
}
